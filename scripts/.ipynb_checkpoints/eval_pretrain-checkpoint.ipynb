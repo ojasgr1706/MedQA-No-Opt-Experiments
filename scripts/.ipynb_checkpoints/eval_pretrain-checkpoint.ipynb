{
 "cells": [
  {
   "cell_type": "code",
   "execution_count": 1,
   "id": "7cb3bb24-1fd9-4b6e-a108-cc72e0ae1728",
   "metadata": {},
   "outputs": [],
   "source": [
    "import evaluate\n",
    "import argparse\n",
    "from transformers import AutoTokenizer, AutoModelForCausalLM\n",
    "from torch.utils.data import DataLoader\n",
    "import re\n",
    "from datasets import load_dataset, DatasetDict\n",
    "import torch\n",
    "from tqdm.auto import tqdm"
   ]
  },
  {
   "cell_type": "code",
   "execution_count": 2,
   "id": "237f7e5a-723d-4fe5-8906-c58b3323bf89",
   "metadata": {},
   "outputs": [],
   "source": [
    "def str_or_list(val):\n",
    "    if re.search(r\"^\\[\",val):\n",
    "        sep_list = val.strip(\"[]\").split(',')\n",
    "        return sep_list\n",
    "    return [val]\n",
    "\n",
    "def tokenize(element):\n",
    "    \n",
    "    outputs = tokenizer(\n",
    "        element[\"text\"],\n",
    "        truncation=True,\n",
    "        max_length=args.max_new_tokens,\n",
    "        return_overflowing_tokens=True,\n",
    "        return_length=True,\n",
    "        padding=True,\n",
    "        # stride=args.stride,\n",
    "        return_tensors=\"pt\"\n",
    "    )\n",
    "    \n",
    "    print(f\"Input IDs length: {len(outputs['input_ids'])}\")\n",
    "    print(f\"Input chunk lengths: {(outputs['length'])}\")\n",
    "    # print(f\"Chunk mapping: {outputs['overflow_to_sample_mapping']}\")\n",
    "    # print(f\"attention mask :\\n {outputs['attention_mask']}\")\n",
    "\n",
    "    token_data = []\n",
    "    for input_ids in outputs[\"input_ids\"]:\n",
    "        # print(input_ids)\n",
    "        token_data.append(input_ids)\n",
    "\n",
    "    # print(token_data)\n",
    "    print(token_data[0])\n",
    "\n",
    "#     input_batch = [stride*[tokenizer.pad_token_id] + token_batch[0][:stride]]\n",
    "#     input_batch += token_batch\n",
    "\n",
    "#     output_batch = [token_batch[-1][-1*stride:]] + stride*[tokenizer.pad_token_id]]\n",
    "    \n",
    "    input_data = token_data[:-1]\n",
    "    output_data = token_data[1:]\n",
    "    \n",
    "    # print(\"input_batch\")\n",
    "    # print(input_batch)\n",
    "    # print(\"padded_batch\")\n",
    "    # print(padded_batch)\n",
    "    # print(input_batch[0])\n",
    "    return {\"input\" : input_data, \"output\" : output_data}\n"
   ]
  },
  {
   "cell_type": "code",
   "execution_count": 3,
   "id": "4dfebe2f-506f-4fac-b380-844646197a21",
   "metadata": {},
   "outputs": [
    {
     "name": "stderr",
     "output_type": "stream",
     "text": [
      "usage: ipykernel_launcher.py [-h] --model_name MODEL_NAME --tk_name TK_NAME\n",
      "                             --data DATA [--output_dir OUTPUT_DIR]\n",
      "                             [--max_new_tokens MAX_NEW_TOKENS]\n",
      "                             [--stride STRIDE]\n",
      "ipykernel_launcher.py: error: the following arguments are required: --model_name, --tk_name, --data\n"
     ]
    },
    {
     "ename": "SystemExit",
     "evalue": "2",
     "output_type": "error",
     "traceback": [
      "An exception has occurred, use %tb to see the full traceback.\n",
      "\u001b[0;31mSystemExit\u001b[0m\u001b[0;31m:\u001b[0m 2\n"
     ]
    },
    {
     "name": "stderr",
     "output_type": "stream",
     "text": [
      "/dccstor/cgdial/ojasgramo/anaconda3/lib/python3.10/site-packages/IPython/core/interactiveshell.py:3468: UserWarning: To exit: use 'exit', 'quit', or Ctrl-D.\n",
      "  warn(\"To exit: use 'exit', 'quit', or Ctrl-D.\", stacklevel=1)\n"
     ]
    }
   ],
   "source": [
    "parser = argparse.ArgumentParser()\n",
    "parser.add_argument(\"--model_name\", help=\"Model to evaluate\", required=True, type=str)\n",
    "parser.add_argument(\"--tk_name\", help=\"tokenizer name\", required=True, type=str)\n",
    "parser.add_argument(\"--data\", help=\"Add testing data files (single file name or list fo files in the format : [a,b,c,...]. The files in the list will be concatenated before being used as training data)\", required=True, type=str_or_list)\n",
    "parser.add_argument(\"--output_dir\", help=\"output directory\", required=False, type=str, default=\"./\")\n",
    "parser.add_argument(\"--max_new_tokens\", help=\"tokenier name\", required=False, type=int, default = 256)\n",
    "parser.add_argument(\"--stride\", help=\"tokenier name\", required=False, type=int, default = 256)\n",
    "\n",
    "batch_size = 32\n",
    "\n",
    "global args\n",
    "args = parser.parse_args()\n",
    "\n",
    "device = torch.device(\"cuda\") if torch.cuda.is_available() else torch.device(\"cpu\")\n",
    "\n",
    "print(\"loading modules\")\n",
    "\n",
    "tokenizer_name = args.tk_name\n",
    "global tokenizer\n",
    "tokenizer = AutoTokenizer.from_pretrained(f\"{tokenizer_name}\")\n",
    "tokenizer.pad_token = tokenizer.eos_token\n",
    "rouge = evaluate.load('rouge')\n",
    "\n",
    "print(\"everything loaded\")\n",
    "\n",
    "# accelerator = Accelerator(mixed_precision = mixed_precision)\n",
    "# accelerator.print(\"accelerator initialised\")\n",
    "\n",
    "dataset = load_dataset('text',data_files={'test': args.data})\n",
    "\n",
    "print(\"loading dataset\")\n",
    "tokenized_dataset = dataset.map(\n",
    "    tokenize, batched=True, remove_columns=dataset[\"test\"].column_names\n",
    ")\n",
    "print(\"loaded dataset\")\n",
    "tokenized_dataset.set_format(\"torch\")\n",
    "\n",
    "print(tokenized_dataset)\n",
    "input_dataset = tokenized_dataset['test']['input']\n",
    "output_dataset = tokenized_dataset['test']['output']\n",
    "\n",
    "input_dataloader = DataLoader(input_dataset, batch_size=batch_size)\n",
    "output_dataloader = DataLoader(output_dataset, batch_size=batch_size)\n",
    "# dataloader = accelerator.prepare(dataloader)\n",
    "\n",
    "print(\"dataset loaded\")\n",
    "\n",
    "# print(\"example :\")\n",
    "# print(input_dataset[0])\n",
    "\n",
    "print(\"load model\")\n",
    "model_name = args.model_name\n",
    "model = AutoModelForCausalLM.from_pretrained(f\"{model_name}\")\n",
    "model = model.to(device)"
   ]
  },
  {
   "cell_type": "code",
   "execution_count": null,
   "id": "f7cdf8b8-2aa0-4a21-b290-cdcb66e6ea39",
   "metadata": {},
   "outputs": [],
   "source": [
    "print(\"starting evaluation\")\n",
    "\n",
    "progress_bar = tqdm(range(len(input_dataset)//batch_size))\n",
    "results_rouge = []\n",
    "output_it = iter(output_dataloader)\n",
    "for batch in input_dataloader:\n",
    "    # print(batch)\n",
    "    # print(batch.item())\n",
    "    batch = batch.to(device)\n",
    "    # batch = {k: v.to(device) for k, v in batch.item()}\n",
    "    out = model.generate(batch, max_new_tokens = args.max_new_tokens)\n",
    "\n",
    "\n",
    "    # targets = output_dataloader[i]\n",
    "    targets = next(output_it)\n",
    "\n",
    "    inputs = tokenizer.batch_decode(batch[0], skip_special_tokens = True)\n",
    "    preds = tokenizer.batch_decode(out, skip_special_tokens = True)\n",
    "    gold = tokenizer.batch_decode(targets, skip_special_tokens = True)\n",
    "\n",
    "    # print(\"input :\", ''.join(inputs), \"\\n\")\n",
    "    # print(\"preds :\", preds[0], \"\\n\")\n",
    "    # print(\"gold :\", gold[0], \"\\n\")\n",
    "\n",
    "    results = rouge.compute(predictions=preds, references = gold)\n",
    "    results_rouge.append(results['rougeL'])\n",
    "    print(results_rouge[-1])\n",
    "    progress_bar.update(1)\n",
    "\n",
    "print(\"rougeL - avg : \", sum(results_rouge)/len(results_rouge))\n",
    "\n",
    "with open(args.output_dir + \"eval_results.txt\",\"w\") as f:\n",
    "    f.write(str(results_rouge))\n",
    "    f.write(str(sum(results_rouge)/len(results_rouge)))"
   ]
  },
  {
   "cell_type": "code",
   "execution_count": null,
   "id": "803601fa-095e-42e1-b37e-34d642241967",
   "metadata": {},
   "outputs": [],
   "source": []
  },
  {
   "cell_type": "code",
   "execution_count": null,
   "id": "c6445daf-2337-4517-8cad-2d1931aa99be",
   "metadata": {},
   "outputs": [],
   "source": []
  },
  {
   "cell_type": "code",
   "execution_count": null,
   "id": "8cfb4dd4-6b1f-48b6-81b1-4abdba959051",
   "metadata": {},
   "outputs": [],
   "source": []
  },
  {
   "cell_type": "code",
   "execution_count": null,
   "id": "58a72c6c-c2a2-4719-8808-c9276f397fd1",
   "metadata": {},
   "outputs": [],
   "source": []
  },
  {
   "cell_type": "code",
   "execution_count": null,
   "id": "75808c10-efdd-407c-b6c1-c650e485fd35",
   "metadata": {},
   "outputs": [],
   "source": []
  },
  {
   "cell_type": "code",
   "execution_count": null,
   "id": "081c881a-0318-458d-9586-3fb5bec97f3f",
   "metadata": {},
   "outputs": [],
   "source": []
  },
  {
   "cell_type": "code",
   "execution_count": null,
   "id": "71b8c0d5-0f4a-498c-b2da-cba78c5beb93",
   "metadata": {},
   "outputs": [],
   "source": []
  },
  {
   "cell_type": "code",
   "execution_count": null,
   "id": "e3c834a4-08b2-4e9f-9471-254502639014",
   "metadata": {},
   "outputs": [],
   "source": []
  },
  {
   "cell_type": "code",
   "execution_count": null,
   "id": "2e798787-c79f-470d-9687-8c1120899f8d",
   "metadata": {},
   "outputs": [],
   "source": []
  },
  {
   "cell_type": "code",
   "execution_count": null,
   "id": "873f1c7d-0281-4e2d-904d-885187cd8400",
   "metadata": {},
   "outputs": [],
   "source": []
  },
  {
   "cell_type": "code",
   "execution_count": null,
   "id": "155ffdc9-f8b2-40d3-bed3-8e190c6ebe95",
   "metadata": {},
   "outputs": [],
   "source": []
  },
  {
   "cell_type": "code",
   "execution_count": null,
   "id": "1c677440-a0e0-4022-a44c-a078bc508fa7",
   "metadata": {},
   "outputs": [],
   "source": []
  },
  {
   "cell_type": "code",
   "execution_count": null,
   "id": "f2521516-a842-45a7-bcc2-4eaa480c24e4",
   "metadata": {},
   "outputs": [],
   "source": []
  }
 ],
 "metadata": {
  "kernelspec": {
   "display_name": "Python 3 (ipykernel)",
   "language": "python",
   "name": "python3"
  },
  "language_info": {
   "codemirror_mode": {
    "name": "ipython",
    "version": 3
   },
   "file_extension": ".py",
   "mimetype": "text/x-python",
   "name": "python",
   "nbconvert_exporter": "python",
   "pygments_lexer": "ipython3",
   "version": "3.10.9"
  }
 },
 "nbformat": 4,
 "nbformat_minor": 5
}
