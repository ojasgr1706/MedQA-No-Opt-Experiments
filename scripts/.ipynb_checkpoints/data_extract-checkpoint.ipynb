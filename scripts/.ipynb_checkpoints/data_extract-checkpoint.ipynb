{
 "cells": [
  {
   "cell_type": "code",
   "execution_count": null,
   "metadata": {},
   "outputs": [],
   "source": [
    "# importing required modules\n",
    "from PyPDF2 import PdfReader\n",
    "\n",
    "# creating a pdf reader object\n",
    "reader = PdfReader('../data/medicine_books/Harrison’s Principles of Internal Medicine-MAIN-TEXTBOOK.pdf')\n",
    "\n",
    "# printing number of pages in pdf file\n",
    "print(len(reader.pages))\n",
    "\n",
    "# getting a specific page from the pdf file\n",
    "page = reader.pages[7852]\n",
    "\n",
    "# extracting text from page\n",
    "text = page.extract_text()\n",
    "print(text)"
   ]
  },
  {
   "cell_type": "markdown",
   "metadata": {},
   "source": [
    "### Testing fitz"
   ]
  },
  {
   "cell_type": "code",
   "execution_count": null,
   "metadata": {},
   "outputs": [],
   "source": [
    "import fitz\n",
    "filename = \"../data/medicine_books/Harrison’s Principles of Internal Medicine-MAIN-TEXTBOOK.pdf\"\n",
    "doc = fitz.open(filename)\n",
    "# start,end = 7852,8162\n",
    "start,end = 7852, 7854\n",
    "f = open('sample_block.txt',\"w+\")\n",
    "for page in doc.pages(start,end):\n",
    "    text = page.get_text(\"blocks\")\n",
    "    f.write(str(text))\n",
    "\n",
    "f.close()"
   ]
  },
  {
   "cell_type": "markdown",
   "metadata": {},
   "source": [
    "## Trying to separate headers and paras"
   ]
  },
  {
   "cell_type": "code",
   "execution_count": null,
   "metadata": {},
   "outputs": [],
   "source": [
    "# filename = \"../data/medicine_books/Harrison’s Principles of Internal Medicine-MAIN-TEXTBOOK.pdf\"\n",
    "# start,end = 7852,7854\n",
    "\n",
    "filename = \"../data/medicine_books/Davidsons Principles and Practice of Medicine.pdf\"\n",
    "start,end = 666,700"
   ]
  },
  {
   "cell_type": "code",
   "execution_count": null,
   "metadata": {},
   "outputs": [],
   "source": [
    "doc = fitz.open(filename)"
   ]
  },
  {
   "cell_type": "code",
   "execution_count": null,
   "metadata": {},
   "outputs": [],
   "source": [
    "# f = open('sample_block.txt',\"w+\")\n",
    "# text = []\n",
    "for page in doc.pages(start,end):\n",
    "    text = page.get_text(\"blocks\", sort = True)\n",
    "    for block in text:\n",
    "        print('<block>')\n",
    "        # print(block[4])\n",
    "        # print(block[\"lines\"])\n",
    "        for line in block[4].split('\\n'):\n",
    "            print('<l>',line)\n",
    "        print('</block>')\n",
    "\n",
    "    # f.write(str(text))\n",
    "\n",
    "# f.close()"
   ]
  },
  {
   "cell_type": "markdown",
   "metadata": {},
   "source": [
    "### Annotating text into different sizes of text"
   ]
  },
  {
   "cell_type": "code",
   "execution_count": null,
   "metadata": {},
   "outputs": [],
   "source": [
    "import fitz"
   ]
  },
  {
   "cell_type": "code",
   "execution_count": null,
   "metadata": {},
   "outputs": [],
   "source": [
    "from operator import itemgetter\n",
    "\n",
    "\n",
    "def fonts(doc, granularity=False, top_k = None):\n",
    "    \"\"\"Extracts fonts and their usage in PDF documents.\n",
    "    :param doc: PDF document to iterate through\n",
    "    :type doc: <class 'fitz.fitz.Document'>\n",
    "    :param granularity: also use 'font', 'flags' and 'color' to discriminate text\n",
    "    :type granularity: bool\n",
    "    :rtype: [(font_size, count), (font_size, count}], dict\n",
    "    :return: most used fonts sorted by count, font style information\n",
    "    \"\"\"\n",
    "    styles = {}\n",
    "    font_counts = {}\n",
    "\n",
    "    for page in doc.pages(start,end):\n",
    "        blocks = page.get_text(\"dict\", sort = True)[\"blocks\"]\n",
    "        for b in blocks:  # iterate through the text blocks\n",
    "            if b['type'] == 0:  # block contains text\n",
    "                for l in b[\"lines\"]:  # iterate through the text lines\n",
    "                    for s in l[\"spans\"]:  # iterate through the text spans\n",
    "                        if granularity:\n",
    "                            identifier = \"{0}_{1}_{2}_{3}\".format(s['size'], s['flags'], s['font'], s['color'])\n",
    "                            styles[identifier] = {'size': s['size'], 'flags': s['flags'], 'font': s['font'],\n",
    "                                                  'color': s['color']}\n",
    "                        else:\n",
    "                            identifier = \"{0}\".format(s['size'])\n",
    "                            styles[identifier] = {'size': s['size'], 'font': s['font']}\n",
    "\n",
    "                        font_counts[identifier] = font_counts.get(identifier, 0) + 1  # count the fonts usage\n",
    "\n",
    "    font_counts = sorted(font_counts.items(), key=itemgetter(1), reverse=True)\n",
    "\n",
    "    if len(font_counts) < 1:\n",
    "        raise ValueError(\"Zero discriminating fonts found!\")\n",
    "\n",
    "    if top_k:\n",
    "        font_counts = font_counts[:top_k]\n",
    "\n",
    "    return font_counts, styles"
   ]
  },
  {
   "cell_type": "code",
   "execution_count": null,
   "metadata": {},
   "outputs": [],
   "source": [
    "def font_tags(font_counts, styles):\n",
    "    \"\"\"Returns dictionary with font sizes as keys and tags as value.\n",
    "    :param font_counts: (font_size, count) for all fonts occuring in document\n",
    "    :type font_counts: list\n",
    "    :param styles: all styles found in the document\n",
    "    :type styles: dict\n",
    "    :rtype: dict\n",
    "    :return: all element tags based on font-sizes\n",
    "    \"\"\"\n",
    "    p_style = styles[font_counts[0][0]]  # get style for most used font by count (paragraph)\n",
    "    p_size = p_style['size']  # get the paragraph's size\n",
    "\n",
    "    # sorting the font sizes high to low, so that we can append the right integer to each tag \n",
    "    font_sizes = []\n",
    "    for (font_size, count) in font_counts:\n",
    "        font_sizes.append(float(font_size))\n",
    "    font_sizes.sort(reverse=True)\n",
    "\n",
    "    # aggregating the tags for each font size\n",
    "    idx = 0\n",
    "    size_tag = {}\n",
    "    for size in font_sizes:\n",
    "        idx += 1\n",
    "        if size == p_size:\n",
    "            idx = 0\n",
    "            size_tag[size] = '<p>'\n",
    "        if size > p_size:\n",
    "            size_tag[size] = '<h{0}>'.format(idx)\n",
    "        elif size < p_size:\n",
    "            size_tag[size] = '<s{0}>'.format(idx)\n",
    "\n",
    "    return size_tag\n"
   ]
  },
  {
   "cell_type": "code",
   "execution_count": null,
   "metadata": {},
   "outputs": [],
   "source": [
    "# final line-separated text with size tags\n",
    "\n",
    "def headers_para_tag(doc, size_tag):\n",
    "    \"\"\"Scrapes headers & paragraphs from PDF and return texts with element tags.\n",
    "    :param doc: PDF document to iterate through\n",
    "    :type doc: <class 'fitz.fitz.Document'>\n",
    "    :param size_tag: textual element tags for each size\n",
    "    :type size_tag: dict\n",
    "    :rtype: list\n",
    "    :return: texts with pre-prended element tags\n",
    "    \"\"\"\n",
    "    header_para = []  # list with headers and paragraphs\n",
    "    first = True  # boolean operator for first header\n",
    "    previous_s = {}  # previous span\n",
    "\n",
    "    for page in doc.pages(start,end):\n",
    "        blocks = page.get_text(\"dict\", sort = True)[\"blocks\"]\n",
    "        for b in blocks:  # iterate through the text blocks\n",
    "            if b['type'] == 0:  # this block contains text\n",
    "\n",
    "                # REMEMBER: multiple fonts and sizes are possible IN one block\n",
    "\n",
    "                block_string = \"\"  # text found in block\n",
    "                for l in b[\"lines\"]:  # iterate through the text lines\n",
    "                    for s in l[\"spans\"]:  # iterate through the text spans\n",
    "                        try:\n",
    "                            if s['size'] in size_tag:\n",
    "                                size = size_tag[s['size']]\n",
    "                                if s['text'].strip():  # removing whitespaces:\n",
    "                                    if first:\n",
    "                                        # print(\"first\")\n",
    "                                        previous_s = s\n",
    "                                        first = False\n",
    "                                        block_string = {size : s['text']}\n",
    "                                    else:\n",
    "                                        if s['size'] == previous_s['size']:\n",
    "                                            # print(\"a\")\n",
    "\n",
    "                                            if block_string and all((c == \"|\") for c in block_string):\n",
    "                                                # print(\"b\")\n",
    "                                                # block_string only contains pipes\n",
    "                                                block_string = {size : s['text']}\n",
    "                                            if block_string == \"\":\n",
    "                                                # print('c')\n",
    "                                                # new block has started, so append size tag\n",
    "                                                block_string = {size : s['text']}\n",
    "                                            else:  # in the same block, so concatenate strings\n",
    "                                                # print('d')\n",
    "                                                block_string[size] += \" \" + s['text']\n",
    "\n",
    "                                        elif len(block_string) > 0:\n",
    "                                            # print('e', block_string)\n",
    "\n",
    "                                            header_para.append(block_string)\n",
    "                                            # print(\"s['size'] = \",s['size'])\n",
    "                                            block_string = {size : s['text']}\n",
    "                                            # print(block_string)\n",
    "\n",
    "                                        previous_s = s\n",
    "                        except:\n",
    "                            continue\n",
    "\n",
    "                if type(block_string) == dict and len(block_string) > 0:\n",
    "                    header_para.append(block_string)\n",
    "\n",
    "    return header_para\n",
    "    # return 0\n"
   ]
  },
  {
   "cell_type": "code",
   "execution_count": null,
   "metadata": {},
   "outputs": [],
   "source": [
    "# final concatenated text without size tags\n",
    "\n",
    "def headers_para(doc, size_tag):\n",
    "    \"\"\"Scrapes headers & paragraphs from PDF and return texts with element tags.\n",
    "    :param doc: PDF document to iterate through\n",
    "    :type doc: <class 'fitz.fitz.Document'>\n",
    "    :param size_tag: textual element tags for each size\n",
    "    :type size_tag: dict\n",
    "    :rtype: list\n",
    "    :return: texts with pre-prended element tags\n",
    "    \"\"\"\n",
    "    header_para = \"\"  # string with paragraphs\n",
    "    first = True  # boolean operator for first header\n",
    "    previous_s = {}  # previous span\n",
    "\n",
    "    for page in doc.pages(start,end):\n",
    "        blocks = page.get_text(\"dict\", sort = True)[\"blocks\"]\n",
    "        for b in blocks:  # iterate through the text blocks\n",
    "            if b['type'] == 0:  # this block contains text\n",
    "\n",
    "                # REMEMBER: multiple fonts and sizes are possible IN one block\n",
    "\n",
    "                block_string = \"\"  # text found in block\n",
    "                for l in b[\"lines\"]:  # iterate through the text lines\n",
    "                    for s in l[\"spans\"]:  # iterate through the text spans\n",
    "                        try:\n",
    "                            # modified the code to include chemical formula numbers\n",
    "                            # chem formulas have numbers below a certain font size, using '6' for now\n",
    "                            if s['size'] in size_tag or s['size'] <= 6:\n",
    "                                if s['text'].strip():  # removing whitespaces:\n",
    "                                    if first:\n",
    "                                        # print(\"first\")\n",
    "                                        previous_s = s\n",
    "                                        first = False\n",
    "                                        block_string = s['text']\n",
    "                                    else:\n",
    "                                        if s['size'] == previous_s['size']:\n",
    "                                            # print(\"a\")\n",
    "\n",
    "                                            if block_string and all((c == \"|\") for c in block_string):\n",
    "                                                # print(\"b\")\n",
    "                                                # block_string only contains pipes\n",
    "                                                block_string = s['text']\n",
    "                                            if block_string == \"\":\n",
    "                                                # print('c')\n",
    "                                                # new block has started, so append size tag\n",
    "                                                block_string = s['text']\n",
    "                                            else:  # in the same block, so concatenate strings\n",
    "                                                # print('d')\n",
    "                                                block_string += \" \" + s['text']\n",
    "\n",
    "                                        elif len(block_string) > 0:\n",
    "                                            # print('e', block_string)\n",
    "\n",
    "                                            header_para += block_string\n",
    "                                            # print(\"s['size'] = \",s['size'])\n",
    "                                            block_string = s['text']\n",
    "                                            # print(block_string)\n",
    "\n",
    "                                        previous_s = s\n",
    "                        except:\n",
    "                            continue\n",
    "\n",
    "                if len(block_string) > 0:\n",
    "                    header_para += block_string + \" \\n\"\n",
    "\n",
    "    return header_para\n",
    "    # return 0\n"
   ]
  },
  {
   "cell_type": "code",
   "execution_count": null,
   "metadata": {},
   "outputs": [],
   "source": [
    "# filename = \"../data/medicine_books/Harrison’s Principles of Internal Medicine-MAIN-TEXTBOOK.pdf\"\n",
    "# start,end = 7852,8162\n",
    "\n",
    "# filename = \"../data/medicine_books/Davidsons Principles and Practice of Medicine.pdf\"\n",
    "# start,end = 664,754\n",
    "\n",
    "filename = \"../data/medicine_books/Harrisons-Principles-Of-Internal-Medicine-SELF-ASSESSMENT.pdf\"\n",
    "start,end = 492, 558"
   ]
  },
  {
   "cell_type": "code",
   "execution_count": null,
   "metadata": {},
   "outputs": [],
   "source": [
    "doc = fitz.open(filename)\n",
    "font_counts, styles = fonts(doc, granularity=False, top_k=3)\n",
    "print(\"font_counts : \",font_counts, \"\\n\")\n",
    "print(\"styles : \",styles, \"\\n\")\n",
    "size_tag = font_tags(font_counts,styles)\n",
    "print(\"size_tag : \",size_tag, \"\\n\")\n",
    "final_text = headers_para(doc,size_tag)\n",
    "print(\"FINAL TEXT ---------------------------- \\n\")\n",
    "print(final_text)\n"
   ]
  },
  {
   "cell_type": "code",
   "execution_count": null,
   "metadata": {},
   "outputs": [],
   "source": [
    "textbook = \"Harrison_qa\"\n",
    "format = \"text\"\n",
    "top_k = \"top3\""
   ]
  },
  {
   "cell_type": "code",
   "execution_count": null,
   "metadata": {},
   "outputs": [],
   "source": [
    "# Save as text\n",
    "\n",
    "with open(\"../extracted_text/{}_{}_{}.txt\".format(textbook,format,top_k),\"w+\") as f:\n",
    "    f.write(final_text)"
   ]
  },
  {
   "cell_type": "code",
   "execution_count": null,
   "metadata": {},
   "outputs": [],
   "source": [
    "# Save as json\n",
    "import json\n",
    "\n",
    "with open(\"../extracted_text/{}_{}_{}.txt\".format(textbook,format,top_k),\"w+\") as f:\n",
    "    json.dump(final_text, f, indent = 4)\n"
   ]
  },
  {
   "cell_type": "code",
   "execution_count": null,
   "metadata": {},
   "outputs": [],
   "source": [
    "print(10)"
   ]
  },
  {
   "cell_type": "code",
   "execution_count": null,
   "metadata": {},
   "outputs": [],
   "source": []
  },
  {
   "cell_type": "code",
   "execution_count": null,
   "metadata": {},
   "outputs": [],
   "source": []
  },
  {
   "cell_type": "markdown",
   "metadata": {},
   "source": [
    "### Converting both documents from pdf to plain text form (without annotations)"
   ]
  },
  {
   "cell_type": "code",
   "execution_count": null,
   "metadata": {},
   "outputs": [],
   "source": [
    "import fitz\n",
    "filename = \"../data/medicine_books/Harrison’s Principles of Internal Medicine-MAIN-TEXTBOOK.pdf\"\n",
    "doc = fitz.open(filename)\n",
    "start,end = 7852,8162\n",
    "# start,end = 7852, 7854\n",
    "f = open('../extracted_text/Harrisons_text.txt',\"w+\")\n",
    "for page in doc.pages(start,end):\n",
    "    text = page.get_text(\"text\", sort = True)\n",
    "    f.write(str(text))\n",
    "\n",
    "f.close()\n",
    "\n",
    "\n",
    "filename = \"../data/medicine_books/Davidsons Principles and Practice of Medicine.pdf\"\n",
    "doc = fitz.open(filename)\n",
    "start,end = 664,754\n",
    "# start,end = 7852, 7854\n",
    "f = open('../extracted_text/Davidsons_text.txt',\"w+\")\n",
    "for page in doc.pages(start,end):\n",
    "    text = page.get_text(\"text\", sort = True)\n",
    "    f.write(str(text))\n",
    "\n",
    "f.close()"
   ]
  },
  {
   "cell_type": "code",
   "execution_count": null,
   "metadata": {},
   "outputs": [],
   "source": []
  },
  {
   "cell_type": "markdown",
   "metadata": {},
   "source": [
    "#### Extract Harrison_QA dataset"
   ]
  },
  {
   "cell_type": "code",
   "execution_count": null,
   "metadata": {},
   "outputs": [],
   "source": [
    "# extracting the QA self-assessment book\n",
    "\n",
    "import fitz\n",
    "filename = \"../data/medicine_books/Harrisons-Principles-Of-Internal-Medicine-SELF-ASSESSMENT.pdf\"\n",
    "doc = fitz.open(filename)\n",
    "start,end = 492, 558\n",
    "# start,end = 7852, 7854\n",
    "# f = open('../extracted_text/Harrisons_text.txt',\"w+\")\n",
    "\n",
    "final = \"\"\n",
    "for page in doc.pages(start,end):\n",
    "    text = page.get_text(\"text\", sort = True)\n",
    "    # print(\"BLOCK---------------------------------------\")\n",
    "    # print(text)\n",
    "    final += text\n",
    "\n",
    "\n",
    "    # f.write(str(text))"
   ]
  },
  {
   "cell_type": "code",
   "execution_count": null,
   "metadata": {},
   "outputs": [],
   "source": [
    "ques,ans = final.split(\"ANSWERS\")\n",
    "print(ques)\n",
    "print(ans)"
   ]
  },
  {
   "cell_type": "code",
   "execution_count": null,
   "metadata": {},
   "outputs": [],
   "source": [
    "print(ans)"
   ]
  },
  {
   "cell_type": "code",
   "execution_count": null,
   "metadata": {},
   "outputs": [],
   "source": [
    "# Saved \"final\" to \"mcqs_only.txt\" and removed everything that was not mcqs manually\n",
    "\n",
    "f = open(\"../extracted_text/Harrison_qa/mcqs_only.txt\", \"r\")\n",
    "text = f.readlines()[0]\n",
    "text = text.replace(\"\\\\n\",'\\n')\n",
    "f.close()"
   ]
  },
  {
   "cell_type": "code",
   "execution_count": null,
   "metadata": {},
   "outputs": [],
   "source": [
    "ques, ans = text.split(\"ANSWERS\")"
   ]
  },
  {
   "cell_type": "markdown",
   "metadata": {},
   "source": [
    "#### Extracting questions"
   ]
  },
  {
   "cell_type": "code",
   "execution_count": null,
   "metadata": {},
   "outputs": [],
   "source": []
  },
  {
   "cell_type": "code",
   "execution_count": null,
   "metadata": {},
   "outputs": [],
   "source": [
    "q_split = q_split[1:]\n",
    "print(q_split)"
   ]
  },
  {
   "cell_type": "code",
   "execution_count": null,
   "metadata": {},
   "outputs": [],
   "source": [
    "a_split = a_split[1:]\n",
    "print(a_split)"
   ]
  },
  {
   "cell_type": "code",
   "execution_count": null,
   "metadata": {},
   "outputs": [],
   "source": [
    "for i in q_split:\n",
    "    print(i.split(\"\\n\"))"
   ]
  },
  {
   "cell_type": "code",
   "execution_count": null,
   "metadata": {},
   "outputs": [],
   "source": [
    "#perfect\n",
    "\n",
    "len(q_split)"
   ]
  },
  {
   "cell_type": "code",
   "execution_count": null,
   "metadata": {},
   "outputs": [],
   "source": [
    "len(a_split)"
   ]
  },
  {
   "cell_type": "code",
   "execution_count": null,
   "metadata": {},
   "outputs": [],
   "source": [
    "q_json = []\n",
    "for i in range(int(len(q_split)/2)):\n",
    "    q_dict = {}\n",
    "    q_dict['q_no'] = q_split[2*i]\n",
    "    pattern = r\"\\n[A-Z].\\s\\s\\s\"\n",
    "    # remove \\n chars from every element of the split\n",
    "    ques_options = [x.replace(\"\\n\",\" \") for x in re.split(pattern, q_split[2*i+1])]\n",
    "    \n",
    "    q_dict['question'], q_dict['options'] = ques_options[0], ques_options[1:]\n",
    "    q_dict['answer'] = \"\"\n",
    "    q_dict['explanation'] = \"\"\n",
    "\n",
    "    q_json.append(q_dict)"
   ]
  },
  {
   "cell_type": "code",
   "execution_count": null,
   "metadata": {},
   "outputs": [],
   "source": [
    "q_json"
   ]
  },
  {
   "cell_type": "code",
   "execution_count": null,
   "metadata": {},
   "outputs": [],
   "source": [
    "import json\n",
    "with open(\"../extracted_text/Harrison_qa/qa.json\",'w+') as f:\n",
    "    json.dump(q_json,f, indent = 4)"
   ]
  },
  {
   "cell_type": "markdown",
   "metadata": {},
   "source": [
    "#### extracting answers"
   ]
  },
  {
   "cell_type": "code",
   "execution_count": 2,
   "metadata": {},
   "outputs": [
    {
     "data": {
      "text/plain": [
       "[{'q_no': '1',\n",
       "  'question': 'All of the following are typically characterized as an obstructive lung disease EXCEPT:',\n",
       "  'options': ['Asbestosis',\n",
       "   'Asthma',\n",
       "   'Bronchiectasis',\n",
       "   'Chronic bronchitis',\n",
       "   'Emphysema'],\n",
       "  'answer': 'A',\n",
       "  'explanation': 'is a lung disease caused by the\\ninhalation of asbestos fibers. It is a fibrotic lung disease and typically manifests with a restrictive\\nventilator defect and gas transfer defect (reduced diffusion capacity for carbon monoxide\\n[DLCO]) on pulmonary function testing.'},\n",
       " {'q_no': '2',\n",
       "  'question': 'A 25-year-old man is brought to the emergency department by ambulance after his family found him unresponsive at home. He has a history of intravenous drug abuse and human immunodeficiency virus (HIV) with medical noncompliance. His last CD4 count was <200/μL. On initial evaluation, his blood pressure is 120/75 mmHg, heart rate is 105 bpm, respiratory rate 8 breaths/min, oxygen saturation (SaO2) of 83%, and temperature of 36.0°C. A blood gas on room air reveals pH of 7.16, partial pressure of carbon dioxide (PCO2) of 70 mmHg, and partial pressure of oxygen (PO2) of 55 mmHg. Which of the following is the most likely diagnosis?',\n",
       "  'options': ['Asthma',\n",
       "   'Narcotic overdose',\n",
       "   'Pneumococcal pneumonia',\n",
       "   'Pneumocystis pneumonia',\n",
       "   'Pulmonary embolism'],\n",
       "  'answer': 'B',\n",
       "  'explanation': 'The alveolar-arterial oxygen (A-a O2) difference can be helpful in\\ndistinguishing hypoventilation (elevated partial pressure of carbon dioxide [PCO2]) as a cause of\\nhypoxemia. The A-a O2 difference on room air should be less than 15 mmHg in a young adult\\nand typically increases slightly with age. The A-a O2 difference cannot easily be interpreted\\nwhen the fraction of inspired oxygen (FiO2) is greater than 0.21. The A-a O2 difference on room\\nair is elevated in situations of hypoxemia due to ventilation-perfusion (V/Q) mismatch, shunt, or\\ndiffusion defect. It will be normal when the hypoxemia is solely due to hypoventilation. In this\\ncase, the gradient is 7.5 mmHg, consistent with hypoventilation secondary to a presumed\\nnarcotic overdose. Asthma and pulmonary embolism typically cause hypoxemia due to V/Q\\nmismatch. Pneumococcal and pneumocystis pneumonias cause hypoxemia for multifactorial\\nreasons, including shunt.'},\n",
       " {'q_no': '3',\n",
       "  'question': 'At what lung volume does the outward recoil of the chest wall equal the inward elastic recoil of the lung?',\n",
       "  'options': ['Expiratory reserve volume',\n",
       "   'Functional residual capacity',\n",
       "   'Residual volume',\n",
       "   'Tidal volume',\n",
       "   'Total lung capacity'],\n",
       "  'answer': 'B',\n",
       "  'explanation': 'The functional residual capacity of the lung refers to the volume\\nof air that remains in the lung following a normal tidal respiration. This volume of air represents\\nthe point at which the outward recoil of the chest wall is in equilibrium with the inward elastic\\nrecoil of the lungs. The lungs would remain at this volume if not for the actions of the\\nrespiratory muscles. The functional residual capacity is comprised of two lung volumes: the\\nexpiratory reserve volume and the residual volume. The expiratory reserve volume represents\\nthe additional volume of air that can be exhaled from the lungs when acted upon by the\\nrespiratory muscles of exhalation. The residual volume is the volume of air that remains in the\\nlung following a complete exhalation and is determined by the closing pressure of the small\\nairways.'},\n",
       " {'q_no': '5',\n",
       "  'question': 'A 22-year-old woman presents to the emergency department in her 23rd week of pregnancy complaining of acute dyspnea. She has had an uncomplicated pregnancy and has no other medical problems. She is taking no medications other than prenatal vitamins. On examination, she appears dyspneic. Her vital signs are as follows: blood pressure 128/78 mmHg, heart rate 126 bpm, respiratory rate 28 breaths/min, and oxygen saturation 96% on room air. She is afebrile. Her lung and cardiac examinations are normal. There is trace bilateral pitting pedal edema. A chest x-ray performed with abdominal shielding is normal, and the electrocardiogram (ECG) demonstrates sinus tachycardia. An arterial blood gas is performed. The pH is 7.52, partial pressure of arterial carbon dioxide (PaCO2) is 26 mmHg, and partial pressure of arterial oxygen (PaO2) is 85 mmHg. What is the next best step in the diagnosis and management of this patient?',\n",
       "  'options': ['Initiate therapy with amoxicillin for acute bronchitis.',\n",
       "   'Perform a computed tomography (CT) pulmonary angiogram .',\n",
       "   'Perform an echocardiogram.',\n",
       "   'Reassure the patient that dyspnea is normal during this stage of pregnancy and no abnormalities are seen on testing.',\n",
       "   'Treat with clonazepam for a panic attack.'],\n",
       "  'answer': 'B',\n",
       "  'explanation': 'Ventilatory\\nfunction can be easily measured with lung volume measurement and the FEV1/FVC ratio. A\\ndecreased FEV1/FVC ratio is characteristic of obstructive lung diseases. Alternatively, low lung\\nvolumes, specifically decreased total lung capacity (TLC), and occasionally decreased residual\\nvolume (RV) are characteristic of restrictive lung diseases. With extensive air trapping in\\nobstructive lung disease, TLC is often increased, and RV may also be increased. Vital capacity\\n(VC) is proportionally decreased. Maximal inspiratory pressure (MIP) measures respiratory\\nmuscle strength and is decreased in patients with neuromuscular disease. Thus, myasthenia\\ngravis will produce low lung volumes and decreased MIP, whereas patients with idiopathic\\npulmonary fibrosis will have normal muscle strength and subsequently a normal MIP but\\ndecreased TLC and RV. In some cases of pulmonary parenchymal restrictive lung disease, the\\nincrease in elastic recoil results in an increased FEV1/FVC ratio. The hallmark of obstructive\\nlung disease, such as chronic obstructive pulmonary disease (COPD), is a decreased FEV1/FVC\\nratio.'},\n",
       " {'q_no': '10',\n",
       "  'question': 'A 78-year-old woman is admitted to the medical intensive care unit (ICU) with multilobar pneumonia. On initial presentation to the emergency department, her initial oxygen saturation was 60% on room air and only increased to 82% on a non-rebreather face mask. She was in marked respiratory distress and intubated in the emergency department. Upon admission to the ICU, she was sedated and paralyzed. The ventilator is set in the assist-control mode with a respiratory rate of 24 breaths/min, tidal volume of 6 mL/kg, FiO2 of 1.0, and positive end-expiratory pressure of 12 cmH2O. An arterial blood gas measurement is performed on these settings; the results are pH of 7.20, PCO2 of 32 mmHg, and PO2 of 54 mmHg. What is the cause of the hypoxemia?',\n",
       "  'options': ['Hypoventilation alone',\n",
       "   'Hypoventilation and ventilation-perfusion mismatch',\n",
       "   'Shunt',\n",
       "   'Ventilation-perfusion mismatch'],\n",
       "  'answer': 'C',\n",
       "  'explanation': 'In this patient presenting with multilobar pneumonia,\\nhypoxemia is present that does not correct with increasing the concentration of inspired oxygen.\\nThe inability to overcome hypoxemia or the lack of a notable increase in partial pressure of\\narterial oxygen (PaO2) or oxygen saturation (SaO2) with increasing fraction of inspired oxygen\\nphysiologically defines a shunt. A shunt occurs when deoxygenated blood is transported to the\\nleft heart and systemic circulation without having the capability of becoming oxygenated. Causes\\nof shunt include alveolar collapse (atelectasis), intra-alveolar filling processes, intrapulmonary\\nvascular malformations, or structural cardiac disease leading to right-to-left shunt. In this case,\\nthe patient has multilobar pneumonia leading to alveoli that are being perfused but unable to\\nparticipate in gas exchange because they are filled with pus and inflammatory exudates. Acute\\nrespiratory distress syndrome is another common cause of shunt physiology. V/Q mismatch is\\nthe most common cause of hypoxemia and results when there are some alveolar units with low\\nratios (low ventilation to perfusion) that fail to fully oxygenate perfused blood. When blood is\\nreturned to the left heart, the poorly oxygenated blood admixes with blood from normal alveolar\\nunits. The resultant hypoxemia is less severe than with shunt and can be corrected with\\nincreasing the inspired oxygen concentration. Hypoventilation with or without other causes of\\nhypoxemia is not present in this case, as the PCO2 <40 mmHg indicates hyperventilation. The\\nacidosis present in this case is of a metabolic rather than a pulmonary source. Because the\\npatient is paralyzed, she is unable to increase her respiratory rate above the set rate to\\ncompensate for the metabolic acidosis.'}]"
      ]
     },
     "execution_count": 2,
     "metadata": {},
     "output_type": "execute_result"
    }
   ],
   "source": [
    "import json\n",
    "f = open(\"../extracted_text/Harrison_qa/qa.json\",\"r+\")\n",
    "data = json.load(f)\n",
    "f.close()\n",
    "data[:5]"
   ]
  },
  {
   "cell_type": "code",
   "execution_count": null,
   "metadata": {},
   "outputs": [],
   "source": [
    "a_split"
   ]
  },
  {
   "cell_type": "code",
   "execution_count": null,
   "metadata": {},
   "outputs": [],
   "source": [
    "j = 0\n",
    "for i in range(int(len(a_split)/2)):\n",
    "# for i in range(3):\n",
    "    while j < len(data):\n",
    "        # print(data[j])\n",
    "        # print(data[j]['q_no'])\n",
    "        # print(a_split[2*i])\n",
    "        if data[j]['q_no'] == a_split[2*i]:\n",
    "            answer = a_split[2*i + 1].strip()\n",
    "            pattern = r'^The\\sanswer\\sis\\s[A-E].'\n",
    "            if re.search(pattern,answer):\n",
    "                ans_letter = answer.split()[3][0]\n",
    "                # print(ans_letter) \n",
    "                # add answer letter to data\n",
    "                # print(ans_letter)\n",
    "                data[j]['answer'] = ans_letter\n",
    "                pattern = r'\\(Chap.\\s([0-9][0-9][0-9]|[0-9]|[0-9][0-9])*.\\)\\s'\n",
    "                exp = re.split(pattern,answer)\n",
    "                # print(exp[-1])\n",
    "                data[j]['explanation'] = exp[-1]\n",
    "            # print(\"j = \",j)\n",
    "            # print(data[j]['q_no'],a_split[2*i])\n",
    "            j += 1\n",
    "            break\n",
    "        else:\n",
    "            # print(\"j = \",j)\n",
    "            # print(data[j]['q_no'],a_split[2*i])\n",
    "            j += 1"
   ]
  },
  {
   "cell_type": "code",
   "execution_count": null,
   "metadata": {},
   "outputs": [],
   "source": [
    "data"
   ]
  },
  {
   "cell_type": "code",
   "execution_count": null,
   "metadata": {},
   "outputs": [],
   "source": [
    "a_split"
   ]
  },
  {
   "cell_type": "code",
   "execution_count": 3,
   "metadata": {},
   "outputs": [],
   "source": [
    "keywords = [\"Figure\",\"figure\",\"Table\",\"table\"]"
   ]
  },
  {
   "cell_type": "code",
   "execution_count": 57,
   "metadata": {},
   "outputs": [],
   "source": [
    "for i,que in enumerate(data):\n",
    "    if any(keyword in que['question'] or keyword in que['explanation'] for keyword in keywords):\n",
    "        del data[i]"
   ]
  },
  {
   "cell_type": "code",
   "execution_count": 58,
   "metadata": {},
   "outputs": [
    {
     "data": {
      "text/plain": [
       "68"
      ]
     },
     "execution_count": 58,
     "metadata": {},
     "output_type": "execute_result"
    }
   ],
   "source": [
    "len(data)"
   ]
  },
  {
   "cell_type": "code",
   "execution_count": 7,
   "metadata": {},
   "outputs": [
    {
     "data": {
      "text/plain": [
       "[{'q_no': '1',\n",
       "  'question': 'All of the following are typically characterized as an obstructive lung disease EXCEPT:',\n",
       "  'options': ['Asbestosis',\n",
       "   'Asthma',\n",
       "   'Bronchiectasis',\n",
       "   'Chronic bronchitis',\n",
       "   'Emphysema'],\n",
       "  'answer': 'A',\n",
       "  'explanation': 'is a lung disease caused by the\\ninhalation of asbestos fibers. It is a fibrotic lung disease and typically manifests with a restrictive\\nventilator defect and gas transfer defect (reduced diffusion capacity for carbon monoxide\\n[DLCO]) on pulmonary function testing.'},\n",
       " {'q_no': '2',\n",
       "  'question': 'A 25-year-old man is brought to the emergency department by ambulance after his family found him unresponsive at home. He has a history of intravenous drug abuse and human immunodeficiency virus (HIV) with medical noncompliance. His last CD4 count was <200/μL. On initial evaluation, his blood pressure is 120/75 mmHg, heart rate is 105 bpm, respiratory rate 8 breaths/min, oxygen saturation (SaO2) of 83%, and temperature of 36.0°C. A blood gas on room air reveals pH of 7.16, partial pressure of carbon dioxide (PCO2) of 70 mmHg, and partial pressure of oxygen (PO2) of 55 mmHg. Which of the following is the most likely diagnosis?',\n",
       "  'options': ['Asthma',\n",
       "   'Narcotic overdose',\n",
       "   'Pneumococcal pneumonia',\n",
       "   'Pneumocystis pneumonia',\n",
       "   'Pulmonary embolism'],\n",
       "  'answer': 'B',\n",
       "  'explanation': 'The alveolar-arterial oxygen (A-a O2) difference can be helpful in\\ndistinguishing hypoventilation (elevated partial pressure of carbon dioxide [PCO2]) as a cause of\\nhypoxemia. The A-a O2 difference on room air should be less than 15 mmHg in a young adult\\nand typically increases slightly with age. The A-a O2 difference cannot easily be interpreted\\nwhen the fraction of inspired oxygen (FiO2) is greater than 0.21. The A-a O2 difference on room\\nair is elevated in situations of hypoxemia due to ventilation-perfusion (V/Q) mismatch, shunt, or\\ndiffusion defect. It will be normal when the hypoxemia is solely due to hypoventilation. In this\\ncase, the gradient is 7.5 mmHg, consistent with hypoventilation secondary to a presumed\\nnarcotic overdose. Asthma and pulmonary embolism typically cause hypoxemia due to V/Q\\nmismatch. Pneumococcal and pneumocystis pneumonias cause hypoxemia for multifactorial\\nreasons, including shunt.'},\n",
       " {'q_no': '3',\n",
       "  'question': 'At what lung volume does the outward recoil of the chest wall equal the inward elastic recoil of the lung?',\n",
       "  'options': ['Expiratory reserve volume',\n",
       "   'Functional residual capacity',\n",
       "   'Residual volume',\n",
       "   'Tidal volume',\n",
       "   'Total lung capacity'],\n",
       "  'answer': 'B',\n",
       "  'explanation': 'The functional residual capacity of the lung refers to the volume\\nof air that remains in the lung following a normal tidal respiration. This volume of air represents\\nthe point at which the outward recoil of the chest wall is in equilibrium with the inward elastic\\nrecoil of the lungs. The lungs would remain at this volume if not for the actions of the\\nrespiratory muscles. The functional residual capacity is comprised of two lung volumes: the\\nexpiratory reserve volume and the residual volume. The expiratory reserve volume represents\\nthe additional volume of air that can be exhaled from the lungs when acted upon by the\\nrespiratory muscles of exhalation. The residual volume is the volume of air that remains in the\\nlung following a complete exhalation and is determined by the closing pressure of the small\\nairways.'},\n",
       " {'q_no': '5',\n",
       "  'question': 'A 22-year-old woman presents to the emergency department in her 23rd week of pregnancy complaining of acute dyspnea. She has had an uncomplicated pregnancy and has no other medical problems. She is taking no medications other than prenatal vitamins. On examination, she appears dyspneic. Her vital signs are as follows: blood pressure 128/78 mmHg, heart rate 126 bpm, respiratory rate 28 breaths/min, and oxygen saturation 96% on room air. She is afebrile. Her lung and cardiac examinations are normal. There is trace bilateral pitting pedal edema. A chest x-ray performed with abdominal shielding is normal, and the electrocardiogram (ECG) demonstrates sinus tachycardia. An arterial blood gas is performed. The pH is 7.52, partial pressure of arterial carbon dioxide (PaCO2) is 26 mmHg, and partial pressure of arterial oxygen (PaO2) is 85 mmHg. What is the next best step in the diagnosis and management of this patient?',\n",
       "  'options': ['Initiate therapy with amoxicillin for acute bronchitis.',\n",
       "   'Perform a computed tomography (CT) pulmonary angiogram .',\n",
       "   'Perform an echocardiogram.',\n",
       "   'Reassure the patient that dyspnea is normal during this stage of pregnancy and no abnormalities are seen on testing.',\n",
       "   'Treat with clonazepam for a panic attack.'],\n",
       "  'answer': 'B',\n",
       "  'explanation': 'Ventilatory\\nfunction can be easily measured with lung volume measurement and the FEV1/FVC ratio. A\\ndecreased FEV1/FVC ratio is characteristic of obstructive lung diseases. Alternatively, low lung\\nvolumes, specifically decreased total lung capacity (TLC), and occasionally decreased residual\\nvolume (RV) are characteristic of restrictive lung diseases. With extensive air trapping in\\nobstructive lung disease, TLC is often increased, and RV may also be increased. Vital capacity\\n(VC) is proportionally decreased. Maximal inspiratory pressure (MIP) measures respiratory\\nmuscle strength and is decreased in patients with neuromuscular disease. Thus, myasthenia\\ngravis will produce low lung volumes and decreased MIP, whereas patients with idiopathic\\npulmonary fibrosis will have normal muscle strength and subsequently a normal MIP but\\ndecreased TLC and RV. In some cases of pulmonary parenchymal restrictive lung disease, the\\nincrease in elastic recoil results in an increased FEV1/FVC ratio. The hallmark of obstructive\\nlung disease, such as chronic obstructive pulmonary disease (COPD), is a decreased FEV1/FVC\\nratio.'},\n",
       " {'q_no': '10',\n",
       "  'question': 'A 78-year-old woman is admitted to the medical intensive care unit (ICU) with multilobar pneumonia. On initial presentation to the emergency department, her initial oxygen saturation was 60% on room air and only increased to 82% on a non-rebreather face mask. She was in marked respiratory distress and intubated in the emergency department. Upon admission to the ICU, she was sedated and paralyzed. The ventilator is set in the assist-control mode with a respiratory rate of 24 breaths/min, tidal volume of 6 mL/kg, FiO2 of 1.0, and positive end-expiratory pressure of 12 cmH2O. An arterial blood gas measurement is performed on these settings; the results are pH of 7.20, PCO2 of 32 mmHg, and PO2 of 54 mmHg. What is the cause of the hypoxemia?',\n",
       "  'options': ['Hypoventilation alone',\n",
       "   'Hypoventilation and ventilation-perfusion mismatch',\n",
       "   'Shunt',\n",
       "   'Ventilation-perfusion mismatch'],\n",
       "  'answer': 'C',\n",
       "  'explanation': 'In this patient presenting with multilobar pneumonia,\\nhypoxemia is present that does not correct with increasing the concentration of inspired oxygen.\\nThe inability to overcome hypoxemia or the lack of a notable increase in partial pressure of\\narterial oxygen (PaO2) or oxygen saturation (SaO2) with increasing fraction of inspired oxygen\\nphysiologically defines a shunt. A shunt occurs when deoxygenated blood is transported to the\\nleft heart and systemic circulation without having the capability of becoming oxygenated. Causes\\nof shunt include alveolar collapse (atelectasis), intra-alveolar filling processes, intrapulmonary\\nvascular malformations, or structural cardiac disease leading to right-to-left shunt. In this case,\\nthe patient has multilobar pneumonia leading to alveoli that are being perfused but unable to\\nparticipate in gas exchange because they are filled with pus and inflammatory exudates. Acute\\nrespiratory distress syndrome is another common cause of shunt physiology. V/Q mismatch is\\nthe most common cause of hypoxemia and results when there are some alveolar units with low\\nratios (low ventilation to perfusion) that fail to fully oxygenate perfused blood. When blood is\\nreturned to the left heart, the poorly oxygenated blood admixes with blood from normal alveolar\\nunits. The resultant hypoxemia is less severe than with shunt and can be corrected with\\nincreasing the inspired oxygen concentration. Hypoventilation with or without other causes of\\nhypoxemia is not present in this case, as the PCO2 <40 mmHg indicates hyperventilation. The\\nacidosis present in this case is of a metabolic rather than a pulmonary source. Because the\\npatient is paralyzed, she is unable to increase her respiratory rate above the set rate to\\ncompensate for the metabolic acidosis.'}]"
      ]
     },
     "execution_count": 7,
     "metadata": {},
     "output_type": "execute_result"
    }
   ],
   "source": [
    "data[:5]"
   ]
  },
  {
   "cell_type": "code",
   "execution_count": 10,
   "metadata": {},
   "outputs": [
    {
     "name": "stdout",
     "output_type": "stream",
     "text": [
      "['21', '22', '30', '31', '41', '43', '44', '65', '93', '94', '95', '96', '98', '99']\n"
     ]
    }
   ],
   "source": [
    "unans = []\n",
    "for que in data:\n",
    "    if(que['answer'] == \"\"):\n",
    "        unans.append(que['q_no'])\n",
    "        \n",
    "print(unans)"
   ]
  },
  {
   "cell_type": "code",
   "execution_count": null,
   "metadata": {},
   "outputs": [],
   "source": [
    "needed = [40,64]"
   ]
  },
  {
   "cell_type": "code",
   "execution_count": null,
   "metadata": {},
   "outputs": [],
   "source": [
    "index = 0\n",
    "for que in data:\n",
    "    while index < len(data):\n",
    "        if "
   ]
  },
  {
   "cell_type": "code",
   "execution_count": 15,
   "metadata": {},
   "outputs": [
    {
     "data": {
      "text/plain": [
       "{'q_no': '41',\n",
       " 'question': 'What is the recommended treatment for the patient in Question VI-40?',\n",
       " 'options': ['Azathioprine 125 mg daily plus prednisone 60 mg daily',\n",
       "  'Cyclophosphamide 100 mg daily',\n",
       "  'Nintedanib 150 mg twice a day',\n",
       "  'Prednisone 60 mg daily',\n",
       "  'No therapy is effective for treatment of idiopathic pulmonary fibrosis.'],\n",
       " 'answer': '',\n",
       " 'explanation': ''}"
      ]
     },
     "execution_count": 15,
     "metadata": {},
     "output_type": "execute_result"
    }
   ],
   "source": [
    "data[32]"
   ]
  },
  {
   "cell_type": "code",
   "execution_count": 20,
   "metadata": {},
   "outputs": [
    {
     "data": {
      "text/plain": [
       "{'q_no': '65',\n",
       " 'question': 'If a lung biopsy were to be taken 4 days after admission in the patient described in Question VI- 64, which statement correctly identifies the expected findings?',\n",
       " 'options': ['Diffuse alveolar damage with hyaline membranes and protein-rich edema fluid in alveoli',\n",
       "  'Extensive eosinophil-rich infiltrate with protein-rich edema fluid',\n",
       "  'Extensive fibrosis of the alveolar ducts with development of bullae',\n",
       "  'Homogeneous infiltrate of neutrophils and leukocytes affecting all alveolar spaces',\n",
       "  'Proliferation of type II pneumocytes and presence of a lymphocyte-rich pulmonary infiltrate'],\n",
       " 'answer': '',\n",
       " 'explanation': ''}"
      ]
     },
     "execution_count": 20,
     "metadata": {},
     "output_type": "execute_result"
    }
   ],
   "source": [
    "data[53]"
   ]
  },
  {
   "cell_type": "code",
   "execution_count": 21,
   "metadata": {},
   "outputs": [],
   "source": [
    "del data[32]\n",
    "del data[53]"
   ]
  },
  {
   "cell_type": "code",
   "execution_count": 23,
   "metadata": {},
   "outputs": [],
   "source": [
    "idx_data = {}\n",
    "for que in data:\n",
    "    idx_data[que['q_no']] = que"
   ]
  },
  {
   "cell_type": "code",
   "execution_count": null,
   "metadata": {},
   "outputs": [],
   "source": [
    "idx_data['20']"
   ]
  },
  {
   "cell_type": "markdown",
   "metadata": {},
   "source": [
    "### Printing to final text format"
   ]
  },
  {
   "cell_type": "code",
   "execution_count": 55,
   "metadata": {},
   "outputs": [],
   "source": [
    "def check_is_ans(ans):\n",
    "    if ans != \"\":\n",
    "        return \"Option (\" + str(ord(ans) - 64) + \")\"\n",
    "    else:\n",
    "        return \"\"\n",
    "\n",
    "final_text = \"\"\n",
    "    \n",
    "for que in idx_data:\n",
    "    # if(int(que) > 5):\n",
    "    #     break\n",
    "    options = \"\"\n",
    "    for num,opt in enumerate(idx_data[que]['options'],start=1):\n",
    "        options += str(num) + \". \" + opt + \"\\n\"\n",
    "    final_text += f'''Question : {idx_data[que]['question']}\n",
    "Options :\n",
    "{options}   \n",
    "Answer : {check_is_ans(idx_data[que]['answer'])}\n",
    "Explanation : {idx_data[que]['explanation']}\n",
    "\n",
    "'''"
   ]
  },
  {
   "cell_type": "code",
   "execution_count": null,
   "metadata": {},
   "outputs": [],
   "source": [
    "print(final_text)"
   ]
  },
  {
   "cell_type": "markdown",
   "metadata": {},
   "source": [
    "##### saving"
   ]
  },
  {
   "cell_type": "code",
   "execution_count": 25,
   "metadata": {},
   "outputs": [],
   "source": [
    "import json\n",
    "with open(\"../extracted_text/Harrison_qa/qa_text.text\",'w+') as f:\n",
    "    # json.dump(idx_data, f, indent = 4)\n",
    "    f.write("
   ]
  },
  {
   "cell_type": "markdown",
   "metadata": {},
   "source": [
    "## Multidoc2dial"
   ]
  },
  {
   "cell_type": "markdown",
   "metadata": {},
   "source": [
    "### Extracting documents"
   ]
  },
  {
   "cell_type": "code",
   "execution_count": 4,
   "metadata": {},
   "outputs": [],
   "source": [
    "import json\n",
    "with open(\"../data/multidoc2dial/multidoc2dial_doc.json\") as f:\n",
    "    text = json.load(f)"
   ]
  },
  {
   "cell_type": "code",
   "execution_count": null,
   "metadata": {},
   "outputs": [],
   "source": [
    "text['doc_data']['dmv']"
   ]
  },
  {
   "cell_type": "code",
   "execution_count": 2,
   "metadata": {},
   "outputs": [
    {
     "name": "stdout",
     "output_type": "stream",
     "text": [
      "ssa\n",
      "Total words : 460662\n",
      "va\n",
      "Total words : 595772\n",
      "dmv\n",
      "Total words : 734866\n",
      "studentaid\n",
      "Total words : 523313\n"
     ]
    }
   ],
   "source": [
    "for domain_name in text['doc_data']:\n",
    "    domain = text['doc_data'][domain_name]\n",
    "    documents = [domain[document]['doc_text'] for document in domain]\n",
    "    print(domain_name)\n",
    "    print(\"Total words :\", sum(([len(doc) for doc in documents])))\n",
    "\n",
    "# dmv has most words"
   ]
  },
  {
   "cell_type": "code",
   "execution_count": null,
   "metadata": {},
   "outputs": [],
   "source": []
  },
  {
   "cell_type": "markdown",
   "metadata": {},
   "source": [
    "### Converting json file to text"
   ]
  },
  {
   "cell_type": "code",
   "execution_count": 37,
   "metadata": {},
   "outputs": [],
   "source": [
    "import numpy as np\n",
    "from sklearn.model_selection import train_test_split\n",
    "import re"
   ]
  },
  {
   "cell_type": "code",
   "execution_count": 11,
   "metadata": {},
   "outputs": [
    {
     "name": "stdout",
     "output_type": "stream",
     "text": [
      "ssa\n",
      "va\n",
      "dmv\n",
      "studentaid\n"
     ]
    }
   ],
   "source": [
    "final  = \"\"\n",
    "for domain_name in text['doc_data']:\n",
    "    domain = text['doc_data'][domain_name]\n",
    "    # documents = [domain[document]['doc_text'] for document in domain]\n",
    "    for document in domain:\n",
    "        doc_text = domain[document]['doc_text'].replace(\"\\n\\n\",\"\\n\")\n",
    "        final += f\"title : {domain[document]['title']}\\ndocument : {doc_text}\\n\\n\"\n",
    "    print(domain_name)"
   ]
  },
  {
   "cell_type": "code",
   "execution_count": 33,
   "metadata": {},
   "outputs": [],
   "source": [
    "with open(\"../extracted_text/multidoc2dial/title_doc.txt\",\"w+\") as f:\n",
    "    f.write(final)"
   ]
  },
  {
   "cell_type": "code",
   "execution_count": 60,
   "metadata": {},
   "outputs": [
    {
     "name": "stdout",
     "output_type": "stream",
     "text": [
      "ssa\n",
      "va\n",
      "dmv\n",
      "studentaid\n"
     ]
    }
   ],
   "source": [
    "train_text  = \"\"\n",
    "test_text = \"\"\n",
    "for domain_name in text['doc_data']:\n",
    "    domain = text['doc_data'][domain_name]\n",
    "\n",
    "    data = []\n",
    "    data += (domain[item] for item in domain)\n",
    "    \n",
    "    train, test = train_test_split(data, test_size = 0.15)\n",
    "    # print(train[5])\n",
    "    for document in train:\n",
    "        doc_text = re.sub(r\"(\\n)+\",r\" \",document['doc_text'])\n",
    "        train_text += f\"title : {document['title']}    Document : {doc_text}\\n\"\n",
    "    for document in test:\n",
    "        doc_text = re.sub(r\"(\\n)+\",r\" \",document['doc_text'])\n",
    "        test_text += f\"title : {document['title']}    Document : {doc_text}\\n\"\n",
    "    print(domain_name)"
   ]
  },
  {
   "cell_type": "code",
   "execution_count": 61,
   "metadata": {},
   "outputs": [],
   "source": [
    "with open(\"../extracted_text/multidoc2dial/title_doc_train.txt\",\"w+\") as f:\n",
    "    f.write(train_text)"
   ]
  },
  {
   "cell_type": "code",
   "execution_count": 62,
   "metadata": {},
   "outputs": [],
   "source": [
    "with open(\"../extracted_text/multidoc2dial/title_doc_test.txt\",\"w+\") as f:\n",
    "    f.write(test_text)"
   ]
  },
  {
   "cell_type": "code",
   "execution_count": null,
   "metadata": {},
   "outputs": [],
   "source": []
  },
  {
   "cell_type": "markdown",
   "metadata": {},
   "source": [
    "### Extracting QA"
   ]
  },
  {
   "cell_type": "code",
   "execution_count": null,
   "metadata": {},
   "outputs": [],
   "source": [
    "qa_doc = \"train\"\n",
    "qa_doc = \"test\"\n",
    "qa_doc = \"validation\""
   ]
  },
  {
   "cell_type": "code",
   "execution_count": 1,
   "metadata": {},
   "outputs": [],
   "source": [
    "import json\n",
    "with open(\"../data/multidoc2dial/multidoc2dial_dial_test.json\") as f:\n",
    "    text = json.load(f)\n",
    "\n",
    "dialogs = text['dial_data']"
   ]
  },
  {
   "cell_type": "code",
   "execution_count": 2,
   "metadata": {},
   "outputs": [],
   "source": [
    "import json\n",
    "with open(\"../data/multidoc2dial/multidoc2dial_doc.json\") as f:\n",
    "    docs = json.load(f)"
   ]
  },
  {
   "cell_type": "markdown",
   "metadata": {},
   "source": [
    "#### Only conversations"
   ]
  },
  {
   "cell_type": "code",
   "execution_count": 18,
   "metadata": {},
   "outputs": [
    {
     "data": {
      "text/plain": [
       "[2, 3]"
      ]
     },
     "execution_count": 18,
     "metadata": {},
     "output_type": "execute_result"
    }
   ],
   "source": [
    "a = []\n",
    "a+= [2]\n",
    "a+= [3]\n",
    "a"
   ]
  },
  {
   "cell_type": "code",
   "execution_count": null,
   "metadata": {},
   "outputs": [],
   "source": [
    "# suppose there two consecutive turns taken my an individual, then since we are concatenating such utterances into a single one,\n",
    "# we are considering the concatenation of both the documents for the whole concatenated utterance, if they are different.\n",
    "\n",
    "all_utterances = {}\n",
    "for domain_name in dialogs:\n",
    "    domain_utterances = []\n",
    "    domain = dialogs[domain_name]\n",
    "    for i in range(len(domain)):\n",
    "        turn_utterances = []\n",
    "        turns = domain[i]['turns']\n",
    "        role = \"\"\n",
    "        doc = set()\n",
    "        # doc_names = set()\n",
    "        for turn in turns:\n",
    "            # doc += [turn['references'][0]['doc_id']]\n",
    "            # for refs in turn['references']:\n",
    "                # doc_names.add(refs['doc_id'])\n",
    "            utterance = turn['utterance']\n",
    "            if role == turn['role']:\n",
    "                turn_utterances[-1]['utterance'] += \". \" + utterance\n",
    "                turn_utterances[-1]['doc'].add(turn['references'][0]['doc_id'])\n",
    "            else:\n",
    "                role = turn['role']\n",
    "                doc = set({turn['references'][0]['doc_id']})\n",
    "                turn_utterances.append({'utterance' : role + \" : \" + utterance, 'doc' : doc})\n",
    "                 \n",
    "        domain_utterances.append(turn_utterances)\n",
    "    all_utterances[domain_name] = domain_utterances"
   ]
  },
  {
   "cell_type": "markdown",
   "metadata": {},
   "source": [
    "#### Dialogs in QA form with docs"
   ]
  },
  {
   "cell_type": "code",
   "execution_count": null,
   "metadata": {},
   "outputs": [],
   "source": [
    "all_utterances = {}\n",
    "for domain_name in dialogs:\n",
    "    domain_utterances = []\n",
    "    domain = dialogs[domain_name]\n",
    "    for i in range(len(domain)):\n",
    "        turn_utterances = []\n",
    "        turns = domain[i]['turns']\n",
    "        role = \"\"\n",
    "        # doc_names = set()\n",
    "        for turn in turns:\n",
    "            # doc = turn['references'][0]['doc_id']\n",
    "            # for refs in turn['references']:\n",
    "                # doc_names.add(refs['doc_id'])\n",
    "            utterance = turn['utterance']\n",
    "            if role == turn['role']:\n",
    "                turn_utterances[-1] += \". \" + utterance\n",
    "            else:\n",
    "                role = turn['role']\n",
    "                turn_utterances.append(role + \" : \" + utterance)\n",
    "                 \n",
    "        domain_utterances.append(turn_utterances)\n",
    "    all_utterances[domain_name] = domain_utterances\n",
    "\n",
    "all_utterances"
   ]
  },
  {
   "cell_type": "code",
   "execution_count": null,
   "metadata": {},
   "outputs": [],
   "source": []
  },
  {
   "cell_type": "code",
   "execution_count": null,
   "metadata": {},
   "outputs": [],
   "source": []
  },
  {
   "cell_type": "code",
   "execution_count": null,
   "metadata": {},
   "outputs": [],
   "source": []
  },
  {
   "cell_type": "code",
   "execution_count": null,
   "metadata": {},
   "outputs": [],
   "source": []
  },
  {
   "cell_type": "code",
   "execution_count": null,
   "metadata": {},
   "outputs": [],
   "source": []
  },
  {
   "cell_type": "code",
   "execution_count": null,
   "metadata": {},
   "outputs": [],
   "source": []
  },
  {
   "cell_type": "markdown",
   "metadata": {},
   "source": [
    "##### debugging"
   ]
  },
  {
   "cell_type": "code",
   "execution_count": 8,
   "metadata": {},
   "outputs": [],
   "source": [
    "dialogs = text['dial_data']"
   ]
  },
  {
   "cell_type": "code",
   "execution_count": null,
   "metadata": {},
   "outputs": [],
   "source": [
    "dialogs['dmv'][0]"
   ]
  },
  {
   "cell_type": "code",
   "execution_count": 23,
   "metadata": {},
   "outputs": [
    {
     "data": {
      "text/plain": [
       "{'da': 'query_condition',\n",
       " 'references': [{'label': 'precondition',\n",
       "   'id_sp': '4',\n",
       "   'doc_id': 'Top 5 DMV Mistakes and How to Avoid Them#3_0'}],\n",
       " 'role': 'user',\n",
       " 'turn_id': 1,\n",
       " 'utterance': 'What can I do if I forgot to update my address?'}"
      ]
     },
     "execution_count": 23,
     "metadata": {},
     "output_type": "execute_result"
    }
   ],
   "source": [
    "dialogs['dmv'][0]['turns'][0]"
   ]
  },
  {
   "cell_type": "code",
   "execution_count": null,
   "metadata": {},
   "outputs": [],
   "source": [
    "all_utterances"
   ]
  },
  {
   "cell_type": "code",
   "execution_count": null,
   "metadata": {},
   "outputs": [],
   "source": []
  },
  {
   "cell_type": "code",
   "execution_count": null,
   "metadata": {},
   "outputs": [],
   "source": []
  }
 ],
 "metadata": {
  "kernelspec": {
   "display_name": "Python 3 (ipykernel)",
   "language": "python",
   "name": "python3"
  },
  "language_info": {
   "codemirror_mode": {
    "name": "ipython",
    "version": 3
   },
   "file_extension": ".py",
   "mimetype": "text/x-python",
   "name": "python",
   "nbconvert_exporter": "python",
   "pygments_lexer": "ipython3",
   "version": "3.10.9"
  }
 },
 "nbformat": 4,
 "nbformat_minor": 4
}
